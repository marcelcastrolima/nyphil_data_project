{
 "cells": [
  {
   "cell_type": "markdown",
   "id": "ed156ad2",
   "metadata": {},
   "source": [
    "# Web Scraping Wikipedia for Birth and Death dates"
   ]
  },
  {
   "cell_type": "code",
   "execution_count": null,
   "id": "041ae30c",
   "metadata": {},
   "outputs": [],
   "source": [
    "import pandas as pd\n",
    "from bs4 import BeautifulSoup\n",
    "import requests\n",
    "import re\n",
    "from difflib import SequenceMatcher\n",
    "from unidecode import unidecode\n",
    "from datetime import datetime"
   ]
  },
  {
   "cell_type": "code",
   "execution_count": null,
   "id": "4894b403",
   "metadata": {},
   "outputs": [],
   "source": [
    "composers_url = 'https://en.wikipedia.org/wiki/List_of_composers_by_name'\n",
    "\n",
    "page = requests.get(composers_url)\n",
    "\n",
    "composers_full_page = BeautifulSoup(page.text, 'html')"
   ]
  },
  {
   "cell_type": "markdown",
   "id": "3ac387d5",
   "metadata": {},
   "source": [
    "### Finding elements on Wikipedia page based on html tag"
   ]
  },
  {
   "cell_type": "code",
   "execution_count": null,
   "id": "986d9152",
   "metadata": {},
   "outputs": [],
   "source": [
    "comp_main_section = composers_full_page.find_all('div', class_=\"div-col\")"
   ]
  },
  {
   "cell_type": "code",
   "execution_count": null,
   "id": "9a8e15fc",
   "metadata": {},
   "outputs": [],
   "source": [
    "comp_list_items = []\n",
    "\n",
    "for subsection in comp_main_section:\n",
    "    for item in subsection.find_all('li'):\n",
    "        comp_list_items.append(item)"
   ]
  },
  {
   "cell_type": "markdown",
   "id": "b132eb08",
   "metadata": {},
   "source": [
    "### Extracting strings (name + years)"
   ]
  },
  {
   "cell_type": "code",
   "execution_count": null,
   "id": "bd2f612d",
   "metadata": {},
   "outputs": [],
   "source": [
    "composer_list_strings = [item.text.strip() for item in comp_list_items]"
   ]
  },
  {
   "cell_type": "markdown",
   "id": "6752333d",
   "metadata": {},
   "source": [
    "## Manipulating extracted strings"
   ]
  },
  {
   "cell_type": "markdown",
   "id": "e5841fba",
   "metadata": {},
   "source": [
    "### Separating names from years"
   ]
  },
  {
   "cell_type": "code",
   "execution_count": null,
   "id": "2eb8f2b9",
   "metadata": {},
   "outputs": [],
   "source": [
    "name_strings = []\n",
    "year_strings = []\n",
    "\n",
    "for string in composer_list_strings:\n",
    "    split_string = string.split('(')\n",
    "    name_strings.append(unidecode(split_string[0].strip()))\n",
    "    if len(split_string) == 3:\n",
    "        year_strings.append('(' + split_string[1] + '(' + split_string[2])\n",
    "    elif len(split_string) == 2:\n",
    "        year_strings.append('('+ split_string[1])\n",
    "    else:\n",
    "        year_strings.append(\"ERROR\")"
   ]
  },
  {
   "cell_type": "markdown",
   "id": "16aa789a",
   "metadata": {},
   "source": [
    "### Extracting only numerical characters from 'year' strings"
   ]
  },
  {
   "cell_type": "code",
   "execution_count": null,
   "id": "bed4e1ec",
   "metadata": {},
   "outputs": [],
   "source": [
    "numbers_only = []"
   ]
  },
  {
   "cell_type": "code",
   "execution_count": null,
   "id": "f2fafced",
   "metadata": {},
   "outputs": [],
   "source": [
    "for i in year_strings:\n",
    "    numbers_only.append(re.sub(r\"\\D\", \"\", i))"
   ]
  },
  {
   "cell_type": "markdown",
   "id": "d0a41ded",
   "metadata": {},
   "source": [
    "### Converting century format (12th) to 1200"
   ]
  },
  {
   "cell_type": "code",
   "execution_count": null,
   "id": "cd74bb87",
   "metadata": {
    "scrolled": true
   },
   "outputs": [],
   "source": [
    "for c, i in enumerate(numbers_only):\n",
    "    if len(i) == 2:\n",
    "        numbers_only[c] = i+\"00\""
   ]
  },
  {
   "cell_type": "markdown",
   "id": "ba57b5e6",
   "metadata": {},
   "source": [
    "### Converting one 128B.C. (Limenius) to 0128"
   ]
  },
  {
   "cell_type": "code",
   "execution_count": null,
   "id": "3a3df5db",
   "metadata": {},
   "outputs": [],
   "source": [
    "numbers_only[2973] = '0128'"
   ]
  },
  {
   "cell_type": "markdown",
   "id": "c4a7d588",
   "metadata": {},
   "source": [
    "### Converting century+footnote 12th[2] to 1200"
   ]
  },
  {
   "cell_type": "code",
   "execution_count": null,
   "id": "806bf503",
   "metadata": {},
   "outputs": [],
   "source": [
    "for c, i in enumerate(numbers_only):\n",
    "    if len(i) == 3:\n",
    "        numbers_only[c] = i[:2]+\"00\""
   ]
  },
  {
   "cell_type": "markdown",
   "id": "3bfb00e2",
   "metadata": {},
   "source": [
    "### Converting multiple years (more  than 8 characters) to only first and last"
   ]
  },
  {
   "cell_type": "code",
   "execution_count": null,
   "id": "9f5c809a",
   "metadata": {},
   "outputs": [],
   "source": [
    "for count, value in enumerate(numbers_only):\n",
    "    if len(value) > 8:\n",
    "        numbers_only[count] = value[:4]+value[-4:]"
   ]
  },
  {
   "cell_type": "markdown",
   "id": "22a4a9cd",
   "metadata": {},
   "source": [
    "### Spliting numbers based on number of characters"
   ]
  },
  {
   "cell_type": "code",
   "execution_count": null,
   "id": "5ec26040",
   "metadata": {},
   "outputs": [],
   "source": [
    "split_string = [re.findall('....', i) for i in numbers_only]"
   ]
  },
  {
   "cell_type": "markdown",
   "id": "d49e3b6b",
   "metadata": {},
   "source": [
    "### Creating lists for year of birth and year of death"
   ]
  },
  {
   "cell_type": "code",
   "execution_count": null,
   "id": "40d5bc0f",
   "metadata": {},
   "outputs": [],
   "source": [
    "year_birth = []\n",
    "year_death =[]"
   ]
  },
  {
   "cell_type": "code",
   "execution_count": null,
   "id": "43e6cee2",
   "metadata": {},
   "outputs": [],
   "source": [
    "for c, i in enumerate(split_string):\n",
    "    if len(i) == 2:\n",
    "        year_birth.append(i[0])\n",
    "        year_death.append(i[1])\n",
    "    elif len(i) == 1:\n",
    "        year_birth.append(i[0])\n",
    "        year_death.append(\"\")\n",
    "    else:\n",
    "        year_birth.append('')\n",
    "        year_death.append('')\n",
    "        "
   ]
  },
  {
   "cell_type": "code",
   "execution_count": null,
   "id": "458755a0",
   "metadata": {},
   "outputs": [],
   "source": [
    "print(len(year_birth), len(year_death))"
   ]
  },
  {
   "cell_type": "markdown",
   "id": "7387f10f",
   "metadata": {},
   "source": [
    "### Creating dataframe and populating with name, year of birth, year of death, and link"
   ]
  },
  {
   "cell_type": "code",
   "execution_count": null,
   "id": "556e9a9e",
   "metadata": {},
   "outputs": [],
   "source": [
    "wiki_data = pd.DataFrame(list(zip(name_strings, year_birth, year_death, composer_list_links)),\n",
    "               columns =['Name', 'Birth', 'Death', 'Links'])"
   ]
  },
  {
   "cell_type": "markdown",
   "id": "842c5bdb",
   "metadata": {},
   "source": [
    "## Cross-referencing names from database with wikipedia list of composers"
   ]
  },
  {
   "cell_type": "markdown",
   "id": "1e55d693",
   "metadata": {},
   "source": [
    "### Loading data and extracting only the composer name"
   ]
  },
  {
   "cell_type": "code",
   "execution_count": null,
   "id": "012985b5",
   "metadata": {},
   "outputs": [],
   "source": [
    "composers_data = pd.read_excel(\"./programs_works.xlsx\")"
   ]
  },
  {
   "cell_type": "code",
   "execution_count": null,
   "id": "298c05a0",
   "metadata": {},
   "outputs": [],
   "source": [
    "composers_only_data = composers_data['nameComposer'].drop_duplicates().reset_index(drop=True)"
   ]
  },
  {
   "cell_type": "code",
   "execution_count": null,
   "id": "d051ef81",
   "metadata": {},
   "outputs": [],
   "source": [
    "composers_only_data = pd.DataFrame(composers_only_data)"
   ]
  },
  {
   "cell_type": "markdown",
   "id": "c7729984",
   "metadata": {},
   "source": [
    "### Creating lists for the names in the original set and the wikipedia extracted set"
   ]
  },
  {
   "cell_type": "code",
   "execution_count": null,
   "id": "3c466bb1",
   "metadata": {},
   "outputs": [],
   "source": [
    "wiki_list = wiki_data['Name'].tolist()"
   ]
  },
  {
   "cell_type": "code",
   "execution_count": null,
   "id": "9bce5005",
   "metadata": {},
   "outputs": [],
   "source": [
    "data_list = composers_only_data['nameComposer'].tolist()"
   ]
  },
  {
   "cell_type": "code",
   "execution_count": null,
   "id": "caa313d4",
   "metadata": {},
   "outputs": [],
   "source": [
    "data_list = [i.lower() for i in data_list]"
   ]
  },
  {
   "cell_type": "code",
   "execution_count": null,
   "id": "cdc7d601",
   "metadata": {},
   "outputs": [],
   "source": [
    "wiki_list = [i.lower() for i in wiki_list]"
   ]
  },
  {
   "cell_type": "markdown",
   "id": "133d4ea1",
   "metadata": {},
   "source": [
    "### Comparing each name on our data with each name on the wikipedia list of composers"
   ]
  },
  {
   "cell_type": "code",
   "execution_count": null,
   "id": "40c4887f",
   "metadata": {},
   "outputs": [],
   "source": [
    "result_list = []\n",
    "len(result_list)\n",
    "false_count = 0\n",
    "        "
   ]
  },
  {
   "cell_type": "code",
   "execution_count": null,
   "id": "37b2cc60",
   "metadata": {},
   "outputs": [],
   "source": [
    "for b, d in enumerate(data_list):\n",
    "    for c, w in enumerate(wiki_list):\n",
    "        if d in w or w in d:\n",
    "            result_list.append([d, b, w, c])\n",
    "            found = True\n",
    "            break\n",
    "    if found:\n",
    "        pass\n",
    "    else:\n",
    "        result_list.append([d, b, \"NOT FOUND\", \"\", \"\"])\n",
    "        \n",
    "        #Debugging falses\n",
    "        print(found, b, d, c, w)\n",
    "        \n",
    "        false_count += 1\n",
    "    found = False"
   ]
  },
  {
   "cell_type": "markdown",
   "id": "5e5f8163",
   "metadata": {},
   "source": [
    "### Using index to retrieve Birth and Death year from the previously created lists (year_birth and year_death)"
   ]
  },
  {
   "cell_type": "code",
   "execution_count": null,
   "id": "81d843df",
   "metadata": {
    "scrolled": true
   },
   "outputs": [],
   "source": [
    "year_birth_list =[]\n",
    "for c, i in enumerate(result_list):\n",
    "    if i[3] == \"\":\n",
    "        year_birth_list.append('')\n",
    "    else:\n",
    "        year_birth_list.append(year_birth[i[3]])"
   ]
  },
  {
   "cell_type": "code",
   "execution_count": null,
   "id": "3641ed4a",
   "metadata": {},
   "outputs": [],
   "source": [
    "year_death_list =[]\n",
    "for c, i in enumerate(result_list):\n",
    "    if i[3] == \"\":\n",
    "        year_death_list.append('')\n",
    "    else:\n",
    "        year_death_list.append(year_death[i[3]])"
   ]
  },
  {
   "cell_type": "markdown",
   "id": "784bbd3a",
   "metadata": {},
   "source": [
    "### Creating new data frame to include birth and death dates"
   ]
  },
  {
   "cell_type": "code",
   "execution_count": null,
   "id": "5cd6c62d",
   "metadata": {},
   "outputs": [],
   "source": [
    "composers_years_data = pd.DataFrame(composers_only_data)"
   ]
  },
  {
   "cell_type": "code",
   "execution_count": null,
   "id": "1e171c14",
   "metadata": {},
   "outputs": [],
   "source": [
    "composers_years_data['Birth'] = year_birth_list"
   ]
  },
  {
   "cell_type": "code",
   "execution_count": null,
   "id": "de4eb90f",
   "metadata": {},
   "outputs": [],
   "source": [
    "composers_years_data['Death'] = year_death_list"
   ]
  },
  {
   "cell_type": "code",
   "execution_count": null,
   "id": "a49506ae",
   "metadata": {},
   "outputs": [],
   "source": [
    "composers_years_data.to_csv('composers_years_data.csv')"
   ]
  }
 ],
 "metadata": {
  "kernelspec": {
   "display_name": "Python 3",
   "language": "python",
   "name": "python3"
  },
  "language_info": {
   "codemirror_mode": {
    "name": "ipython",
    "version": 3
   },
   "file_extension": ".py",
   "mimetype": "text/x-python",
   "name": "python",
   "nbconvert_exporter": "python",
   "pygments_lexer": "ipython3",
   "version": "3.8.8"
  }
 },
 "nbformat": 4,
 "nbformat_minor": 5
}
