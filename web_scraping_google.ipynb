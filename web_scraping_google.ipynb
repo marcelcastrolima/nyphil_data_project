{
 "cells": [
  {
   "cell_type": "markdown",
   "id": "7e51dd43",
   "metadata": {},
   "source": [
    "# Web Scraping Google for Birth and Death dates"
   ]
  },
  {
   "cell_type": "code",
   "execution_count": null,
   "id": "041ae30c",
   "metadata": {},
   "outputs": [],
   "source": [
    "import pandas as pd\n",
    "from bs4 import BeautifulSoup\n",
    "import requests\n",
    "import re\n",
    "from difflib import SequenceMatcher\n",
    "from unidecode import unidecode\n",
    "from datetime import datetime"
   ]
  },
  {
   "cell_type": "markdown",
   "id": "fdb94586",
   "metadata": {},
   "source": [
    "### Loading data and extract only the composer name"
   ]
  },
  {
   "cell_type": "code",
   "execution_count": null,
   "id": "ce9e3758",
   "metadata": {},
   "outputs": [],
   "source": [
    "composers_data = pd.read_excel(\"./programs_works.xlsx\")"
   ]
  },
  {
   "cell_type": "code",
   "execution_count": null,
   "id": "b064aada",
   "metadata": {},
   "outputs": [],
   "source": [
    "composers_only_data = composers_data['nameComposer'].drop_duplicates().reset_index(drop=True)"
   ]
  },
  {
   "cell_type": "code",
   "execution_count": null,
   "id": "95f4f605",
   "metadata": {},
   "outputs": [],
   "source": [
    "composers_only_data = pd.DataFrame(composers_only_data)"
   ]
  },
  {
   "cell_type": "markdown",
   "id": "1cfa07fa",
   "metadata": {},
   "source": [
    "### Creating list and converting to lower case"
   ]
  },
  {
   "cell_type": "code",
   "execution_count": null,
   "id": "18ed3765",
   "metadata": {},
   "outputs": [],
   "source": [
    "data_list = composers_only_data['nameComposer'].tolist()"
   ]
  },
  {
   "cell_type": "code",
   "execution_count": null,
   "id": "6af63bba",
   "metadata": {},
   "outputs": [],
   "source": [
    "data_list = [i.lower() for i in data_list]"
   ]
  },
  {
   "cell_type": "markdown",
   "id": "8999866c",
   "metadata": {},
   "source": [
    "### Performing a search for each composer and finding demographics based on html tag and class"
   ]
  },
  {
   "cell_type": "markdown",
   "id": "96215fc7",
   "metadata": {},
   "source": [
    "### !!This may take a long time to run!!"
   ]
  },
  {
   "cell_type": "code",
   "execution_count": null,
   "id": "0f2659f7",
   "metadata": {},
   "outputs": [],
   "source": [
    "return_list =[]"
   ]
  },
  {
   "cell_type": "code",
   "execution_count": null,
   "id": "4e07650e",
   "metadata": {},
   "outputs": [],
   "source": [
    "#Performs a google search for each item in data_list\n",
    "\n",
    "for c, i in enumerate(data_list):\n",
    "    comp_string = i.replace(\" \",\"+\")\n",
    "    url = 'https://www.google.com/search?q=' + comp_string + 'composer' #Google Search URL\n",
    "    page = requests.get(url)\n",
    "    print(page, c, '/2871')\n",
    "    google_full_page = BeautifulSoup(page.text, 'html.parser')\n",
    "    person_card = google_full_page.find_all('span', class_='BNeawe tAd8D AP7Wnd') #Class associated with the People Card\n",
    "    list_strings = [item.text.strip() for item in person_card]\n",
    "    return_list.append([c, i, list_strings[:2]])"
   ]
  },
  {
   "cell_type": "code",
   "execution_count": null,
   "id": "cb0920fe",
   "metadata": {},
   "outputs": [],
   "source": [
    "info_only_list = [i[2] for i in return_list] # extracts only the scraped information from return_list"
   ]
  },
  {
   "cell_type": "code",
   "execution_count": null,
   "id": "7cf726dc",
   "metadata": {},
   "outputs": [],
   "source": [
    "info_only_single = [] "
   ]
  },
  {
   "cell_type": "code",
   "execution_count": null,
   "id": "0fcfe8c5",
   "metadata": {},
   "outputs": [],
   "source": [
    "# converts items from a list of strings to a single string\n",
    "\n",
    "for i in info_only_list:\n",
    "    if len(i) > 1:\n",
    "        info_only_single.append(i[0] + ', ' + i[1])\n",
    "    elif len(i) == 1:\n",
    "        info_only_single.append(i)\n",
    "    else:\n",
    "        info_only_single.append(None)"
   ]
  },
  {
   "cell_type": "markdown",
   "id": "77ba14c7",
   "metadata": {},
   "source": [
    "### Merging the new info into the original dataset in a new column"
   ]
  },
  {
   "cell_type": "code",
   "execution_count": null,
   "id": "2b6cc418",
   "metadata": {},
   "outputs": [],
   "source": [
    "composers_info_data = pd.DataFrame(composers_only_data)"
   ]
  },
  {
   "cell_type": "code",
   "execution_count": null,
   "id": "787de2c7",
   "metadata": {},
   "outputs": [],
   "source": [
    "composers_info_data['info'] = info_only_single"
   ]
  },
  {
   "cell_type": "code",
   "execution_count": null,
   "id": "8c926036",
   "metadata": {},
   "outputs": [],
   "source": [
    "composers_info_data.to_csv('composers_info_year_place.csv')"
   ]
  }
 ],
 "metadata": {
  "kernelspec": {
   "display_name": "Python 3",
   "language": "python",
   "name": "python3"
  },
  "language_info": {
   "codemirror_mode": {
    "name": "ipython",
    "version": 3
   },
   "file_extension": ".py",
   "mimetype": "text/x-python",
   "name": "python",
   "nbconvert_exporter": "python",
   "pygments_lexer": "ipython3",
   "version": "3.8.8"
  }
 },
 "nbformat": 4,
 "nbformat_minor": 5
}
